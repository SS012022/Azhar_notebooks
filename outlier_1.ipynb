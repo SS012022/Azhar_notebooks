{
  "nbformat": 4,
  "nbformat_minor": 0,
  "metadata": {
    "colab": {
      "provenance": [],
      "authorship_tag": "ABX9TyOtg6vlxEG89MeuTD2LIoxm",
      "include_colab_link": true
    },
    "kernelspec": {
      "name": "python3",
      "display_name": "Python 3"
    },
    "language_info": {
      "name": "python"
    }
  },
  "cells": [
    {
      "cell_type": "markdown",
      "metadata": {
        "id": "view-in-github",
        "colab_type": "text"
      },
      "source": [
        "<a href=\"https://colab.research.google.com/github/SS012022/Azhar_notebooks/blob/main/outlier_1.ipynb\" target=\"_parent\"><img src=\"https://colab.research.google.com/assets/colab-badge.svg\" alt=\"Open In Colab\"/></a>"
      ]
    },
    {
      "cell_type": "code",
      "execution_count": null,
      "metadata": {
        "id": "2bLjviCxXsvE"
      },
      "outputs": [],
      "source": []
    },
    {
      "cell_type": "markdown",
      "source": [
        "4 ways of finding outliers ->\n",
        "1. using visualization\n",
        "2. Sorting method\n",
        "Example: 180,156,9,176,163,1827,166,171\n",
        "sort the above data in ascending order :\n",
        "  9,156,163,166,171,180,1827\n",
        "3. statistical outlier detection : using zscore\n",
        "it is in the statistics. it is also called standard score.\n",
        "zscore tells us how many standard deviation away a data point is from the mean.\n",
        "Formula:\n",
        "  z=(x -mean)/std devi\n",
        "\n",
        "  we can set the threshold value as 3 .\n",
        "  any data point with a zscore more than 3 or less than -3 can be considered as outlier.\n",
        "4. using Inter Quartile Range method\n",
        "First Quartile: mid value of first half of the data\n",
        "second quartile: median value of the data\n",
        "third quartile: mid value of the second half data.\n",
        "IQR=TQ-FQ\n",
        "R= 1.5 * IQR\n",
        "upper boundary= TQ+(R)\n",
        "lower boundary = FQ -R\n",
        "\n",
        "steps to be follow for IQR:\n",
        "1. sort the data into ascending order.\n",
        "2. find the Q1, median and Q3\n",
        "3. calculate IQR=Q3-Q1\n",
        "4.calculate the upper boundary Q3+(1.5*IQR)\n",
        "5.calculate the lower boundary Q1-(1.5*IQR)\n",
        "6.values that lies outside of these boundaries are outliers."
      ],
      "metadata": {
        "id": "qi6qWIkVbQU6"
      }
    },
    {
      "cell_type": "code",
      "source": [
        "# z=(x-mean)/std\n",
        "import numpy as np\n",
        "data=[1,2,2,2,3,1,1,2,2,12,3,1,1]\n",
        "mean=np.mean(data)\n",
        "std=np.std(data)\n",
        "threshold=3\n",
        "outlier=[]\n",
        "for i in data:\n",
        "  z=(i-mean)/std\n",
        "  print(\"i=\",i,\" z=\",z,\" threshold=\",3)\n",
        "  if z>threshold:\n",
        "    outlier.append(i)\n",
        "print(outlier)"
      ],
      "metadata": {
        "colab": {
          "base_uri": "https://localhost:8080/"
        },
        "id": "W-n3bJb_dlf7",
        "outputId": "591eec5a-a174-4888-d126-48fd2f2d2948"
      },
      "execution_count": 15,
      "outputs": [
        {
          "output_type": "stream",
          "name": "stdout",
          "text": [
            "i= 1  z= -0.545951090432614  threshold= 3\n",
            "i= 2  z= -0.19108288165141488  threshold= 3\n",
            "i= 2  z= -0.19108288165141488  threshold= 3\n",
            "i= 2  z= -0.19108288165141488  threshold= 3\n",
            "i= 3  z= 0.16378532712978427  threshold= 3\n",
            "i= 1  z= -0.545951090432614  threshold= 3\n",
            "i= 1  z= -0.545951090432614  threshold= 3\n",
            "i= 2  z= -0.19108288165141488  threshold= 3\n",
            "i= 2  z= -0.19108288165141488  threshold= 3\n",
            "i= 12  z= 3.3575992061605766  threshold= 3\n",
            "i= 3  z= 0.16378532712978427  threshold= 3\n",
            "i= 1  z= -0.545951090432614  threshold= 3\n",
            "i= 1  z= -0.545951090432614  threshold= 3\n",
            "[12]\n"
          ]
        }
      ]
    },
    {
      "cell_type": "code",
      "source": [
        "import scipy.stats as stats\n",
        "#1-D array\n",
        "data=np.array([6,7,7,12,13,13,15,16,121,19,22])\n",
        "threshold=3\n",
        "z=list(stats.zscore(data))\n",
        "\n",
        "for i in z:\n",
        "  if i>threshold:\n",
        "    print(\"zscore of outlier:\",i)# zscore\n",
        "    indx=z.index(i)\n",
        "    print(\"outlier:\", data[indx])\n"
      ],
      "metadata": {
        "colab": {
          "base_uri": "https://localhost:8080/"
        },
        "id": "3fYbdKn4fh1b",
        "outputId": "139963cd-2ab5-440e-d7a9-8a06aa4b338b"
      },
      "execution_count": 28,
      "outputs": [
        {
          "output_type": "stream",
          "name": "stdout",
          "text": [
            "zscore of outlier: 3.125357983716307\n",
            "outlier: 121\n"
          ]
        }
      ]
    },
    {
      "cell_type": "code",
      "source": [
        "# multidimensional array\n",
        "data=np.array([[5,6,7,8,7],\n",
        "               [8,9,8,9,8],\n",
        "               [2,4,5,2,4]])\n",
        "print(stats.zscore(data,axis=1))"
      ],
      "metadata": {
        "colab": {
          "base_uri": "https://localhost:8080/"
        },
        "id": "ItfNFifahuel",
        "outputId": "9410e8d7-2bb9-4d00-9670-774f9acaf91a"
      },
      "execution_count": 29,
      "outputs": [
        {
          "output_type": "stream",
          "name": "stdout",
          "text": [
            "[[-1.56892908 -0.58834841  0.39223227  1.37281295  0.39223227]\n",
            " [-0.81649658  1.22474487 -0.81649658  1.22474487 -0.81649658]\n",
            " [-1.16666667  0.5         1.33333333 -1.16666667  0.5       ]]\n"
          ]
        }
      ]
    },
    {
      "cell_type": "code",
      "source": [
        "# Pandas dataframe\n",
        "import pandas as pd\n",
        "data=pd.DataFrame(np.random.randint(0,10,size=(5,3)),columns=['A','B','C'])\n",
        "print(data)\n",
        "# we can use apply() method to find the zscore of individual values by column\n",
        "data.apply(stats.zscore)"
      ],
      "metadata": {
        "colab": {
          "base_uri": "https://localhost:8080/",
          "height": 310
        },
        "id": "NqiMyqLriGht",
        "outputId": "970c3d84-320f-4695-dfd8-c923d0a3fcf8"
      },
      "execution_count": 31,
      "outputs": [
        {
          "output_type": "stream",
          "name": "stdout",
          "text": [
            "   A  B  C\n",
            "0  9  5  4\n",
            "1  0  3  8\n",
            "2  3  0  2\n",
            "3  6  7  4\n",
            "4  7  1  0\n"
          ]
        },
        {
          "output_type": "execute_result",
          "data": {
            "text/plain": [
              "          A         B         C\n",
              "0  1.264911  0.702782  0.150756\n",
              "1 -1.581139 -0.078087  1.658312\n",
              "2 -0.632456 -1.249390 -0.603023\n",
              "3  0.316228  1.483651  0.150756\n",
              "4  0.632456 -0.858956 -1.356801"
            ],
            "text/html": [
              "\n",
              "  <div id=\"df-bd6b180e-21a1-4bf9-8fbe-e2403c372f16\" class=\"colab-df-container\">\n",
              "    <div>\n",
              "<style scoped>\n",
              "    .dataframe tbody tr th:only-of-type {\n",
              "        vertical-align: middle;\n",
              "    }\n",
              "\n",
              "    .dataframe tbody tr th {\n",
              "        vertical-align: top;\n",
              "    }\n",
              "\n",
              "    .dataframe thead th {\n",
              "        text-align: right;\n",
              "    }\n",
              "</style>\n",
              "<table border=\"1\" class=\"dataframe\">\n",
              "  <thead>\n",
              "    <tr style=\"text-align: right;\">\n",
              "      <th></th>\n",
              "      <th>A</th>\n",
              "      <th>B</th>\n",
              "      <th>C</th>\n",
              "    </tr>\n",
              "  </thead>\n",
              "  <tbody>\n",
              "    <tr>\n",
              "      <th>0</th>\n",
              "      <td>1.264911</td>\n",
              "      <td>0.702782</td>\n",
              "      <td>0.150756</td>\n",
              "    </tr>\n",
              "    <tr>\n",
              "      <th>1</th>\n",
              "      <td>-1.581139</td>\n",
              "      <td>-0.078087</td>\n",
              "      <td>1.658312</td>\n",
              "    </tr>\n",
              "    <tr>\n",
              "      <th>2</th>\n",
              "      <td>-0.632456</td>\n",
              "      <td>-1.249390</td>\n",
              "      <td>-0.603023</td>\n",
              "    </tr>\n",
              "    <tr>\n",
              "      <th>3</th>\n",
              "      <td>0.316228</td>\n",
              "      <td>1.483651</td>\n",
              "      <td>0.150756</td>\n",
              "    </tr>\n",
              "    <tr>\n",
              "      <th>4</th>\n",
              "      <td>0.632456</td>\n",
              "      <td>-0.858956</td>\n",
              "      <td>-1.356801</td>\n",
              "    </tr>\n",
              "  </tbody>\n",
              "</table>\n",
              "</div>\n",
              "    <div class=\"colab-df-buttons\">\n",
              "\n",
              "  <div class=\"colab-df-container\">\n",
              "    <button class=\"colab-df-convert\" onclick=\"convertToInteractive('df-bd6b180e-21a1-4bf9-8fbe-e2403c372f16')\"\n",
              "            title=\"Convert this dataframe to an interactive table.\"\n",
              "            style=\"display:none;\">\n",
              "\n",
              "  <svg xmlns=\"http://www.w3.org/2000/svg\" height=\"24px\" viewBox=\"0 -960 960 960\">\n",
              "    <path d=\"M120-120v-720h720v720H120Zm60-500h600v-160H180v160Zm220 220h160v-160H400v160Zm0 220h160v-160H400v160ZM180-400h160v-160H180v160Zm440 0h160v-160H620v160ZM180-180h160v-160H180v160Zm440 0h160v-160H620v160Z\"/>\n",
              "  </svg>\n",
              "    </button>\n",
              "\n",
              "  <style>\n",
              "    .colab-df-container {\n",
              "      display:flex;\n",
              "      gap: 12px;\n",
              "    }\n",
              "\n",
              "    .colab-df-convert {\n",
              "      background-color: #E8F0FE;\n",
              "      border: none;\n",
              "      border-radius: 50%;\n",
              "      cursor: pointer;\n",
              "      display: none;\n",
              "      fill: #1967D2;\n",
              "      height: 32px;\n",
              "      padding: 0 0 0 0;\n",
              "      width: 32px;\n",
              "    }\n",
              "\n",
              "    .colab-df-convert:hover {\n",
              "      background-color: #E2EBFA;\n",
              "      box-shadow: 0px 1px 2px rgba(60, 64, 67, 0.3), 0px 1px 3px 1px rgba(60, 64, 67, 0.15);\n",
              "      fill: #174EA6;\n",
              "    }\n",
              "\n",
              "    .colab-df-buttons div {\n",
              "      margin-bottom: 4px;\n",
              "    }\n",
              "\n",
              "    [theme=dark] .colab-df-convert {\n",
              "      background-color: #3B4455;\n",
              "      fill: #D2E3FC;\n",
              "    }\n",
              "\n",
              "    [theme=dark] .colab-df-convert:hover {\n",
              "      background-color: #434B5C;\n",
              "      box-shadow: 0px 1px 3px 1px rgba(0, 0, 0, 0.15);\n",
              "      filter: drop-shadow(0px 1px 2px rgba(0, 0, 0, 0.3));\n",
              "      fill: #FFFFFF;\n",
              "    }\n",
              "  </style>\n",
              "\n",
              "    <script>\n",
              "      const buttonEl =\n",
              "        document.querySelector('#df-bd6b180e-21a1-4bf9-8fbe-e2403c372f16 button.colab-df-convert');\n",
              "      buttonEl.style.display =\n",
              "        google.colab.kernel.accessAllowed ? 'block' : 'none';\n",
              "\n",
              "      async function convertToInteractive(key) {\n",
              "        const element = document.querySelector('#df-bd6b180e-21a1-4bf9-8fbe-e2403c372f16');\n",
              "        const dataTable =\n",
              "          await google.colab.kernel.invokeFunction('convertToInteractive',\n",
              "                                                    [key], {});\n",
              "        if (!dataTable) return;\n",
              "\n",
              "        const docLinkHtml = 'Like what you see? Visit the ' +\n",
              "          '<a target=\"_blank\" href=https://colab.research.google.com/notebooks/data_table.ipynb>data table notebook</a>'\n",
              "          + ' to learn more about interactive tables.';\n",
              "        element.innerHTML = '';\n",
              "        dataTable['output_type'] = 'display_data';\n",
              "        await google.colab.output.renderOutput(dataTable, element);\n",
              "        const docLink = document.createElement('div');\n",
              "        docLink.innerHTML = docLinkHtml;\n",
              "        element.appendChild(docLink);\n",
              "      }\n",
              "    </script>\n",
              "  </div>\n",
              "\n",
              "\n",
              "<div id=\"df-08a2d96a-e983-489c-84f6-2103857cedb0\">\n",
              "  <button class=\"colab-df-quickchart\" onclick=\"quickchart('df-08a2d96a-e983-489c-84f6-2103857cedb0')\"\n",
              "            title=\"Suggest charts\"\n",
              "            style=\"display:none;\">\n",
              "\n",
              "<svg xmlns=\"http://www.w3.org/2000/svg\" height=\"24px\"viewBox=\"0 0 24 24\"\n",
              "     width=\"24px\">\n",
              "    <g>\n",
              "        <path d=\"M19 3H5c-1.1 0-2 .9-2 2v14c0 1.1.9 2 2 2h14c1.1 0 2-.9 2-2V5c0-1.1-.9-2-2-2zM9 17H7v-7h2v7zm4 0h-2V7h2v10zm4 0h-2v-4h2v4z\"/>\n",
              "    </g>\n",
              "</svg>\n",
              "  </button>\n",
              "\n",
              "<style>\n",
              "  .colab-df-quickchart {\n",
              "      --bg-color: #E8F0FE;\n",
              "      --fill-color: #1967D2;\n",
              "      --hover-bg-color: #E2EBFA;\n",
              "      --hover-fill-color: #174EA6;\n",
              "      --disabled-fill-color: #AAA;\n",
              "      --disabled-bg-color: #DDD;\n",
              "  }\n",
              "\n",
              "  [theme=dark] .colab-df-quickchart {\n",
              "      --bg-color: #3B4455;\n",
              "      --fill-color: #D2E3FC;\n",
              "      --hover-bg-color: #434B5C;\n",
              "      --hover-fill-color: #FFFFFF;\n",
              "      --disabled-bg-color: #3B4455;\n",
              "      --disabled-fill-color: #666;\n",
              "  }\n",
              "\n",
              "  .colab-df-quickchart {\n",
              "    background-color: var(--bg-color);\n",
              "    border: none;\n",
              "    border-radius: 50%;\n",
              "    cursor: pointer;\n",
              "    display: none;\n",
              "    fill: var(--fill-color);\n",
              "    height: 32px;\n",
              "    padding: 0;\n",
              "    width: 32px;\n",
              "  }\n",
              "\n",
              "  .colab-df-quickchart:hover {\n",
              "    background-color: var(--hover-bg-color);\n",
              "    box-shadow: 0 1px 2px rgba(60, 64, 67, 0.3), 0 1px 3px 1px rgba(60, 64, 67, 0.15);\n",
              "    fill: var(--button-hover-fill-color);\n",
              "  }\n",
              "\n",
              "  .colab-df-quickchart-complete:disabled,\n",
              "  .colab-df-quickchart-complete:disabled:hover {\n",
              "    background-color: var(--disabled-bg-color);\n",
              "    fill: var(--disabled-fill-color);\n",
              "    box-shadow: none;\n",
              "  }\n",
              "\n",
              "  .colab-df-spinner {\n",
              "    border: 2px solid var(--fill-color);\n",
              "    border-color: transparent;\n",
              "    border-bottom-color: var(--fill-color);\n",
              "    animation:\n",
              "      spin 1s steps(1) infinite;\n",
              "  }\n",
              "\n",
              "  @keyframes spin {\n",
              "    0% {\n",
              "      border-color: transparent;\n",
              "      border-bottom-color: var(--fill-color);\n",
              "      border-left-color: var(--fill-color);\n",
              "    }\n",
              "    20% {\n",
              "      border-color: transparent;\n",
              "      border-left-color: var(--fill-color);\n",
              "      border-top-color: var(--fill-color);\n",
              "    }\n",
              "    30% {\n",
              "      border-color: transparent;\n",
              "      border-left-color: var(--fill-color);\n",
              "      border-top-color: var(--fill-color);\n",
              "      border-right-color: var(--fill-color);\n",
              "    }\n",
              "    40% {\n",
              "      border-color: transparent;\n",
              "      border-right-color: var(--fill-color);\n",
              "      border-top-color: var(--fill-color);\n",
              "    }\n",
              "    60% {\n",
              "      border-color: transparent;\n",
              "      border-right-color: var(--fill-color);\n",
              "    }\n",
              "    80% {\n",
              "      border-color: transparent;\n",
              "      border-right-color: var(--fill-color);\n",
              "      border-bottom-color: var(--fill-color);\n",
              "    }\n",
              "    90% {\n",
              "      border-color: transparent;\n",
              "      border-bottom-color: var(--fill-color);\n",
              "    }\n",
              "  }\n",
              "</style>\n",
              "\n",
              "  <script>\n",
              "    async function quickchart(key) {\n",
              "      const quickchartButtonEl =\n",
              "        document.querySelector('#' + key + ' button');\n",
              "      quickchartButtonEl.disabled = true;  // To prevent multiple clicks.\n",
              "      quickchartButtonEl.classList.add('colab-df-spinner');\n",
              "      try {\n",
              "        const charts = await google.colab.kernel.invokeFunction(\n",
              "            'suggestCharts', [key], {});\n",
              "      } catch (error) {\n",
              "        console.error('Error during call to suggestCharts:', error);\n",
              "      }\n",
              "      quickchartButtonEl.classList.remove('colab-df-spinner');\n",
              "      quickchartButtonEl.classList.add('colab-df-quickchart-complete');\n",
              "    }\n",
              "    (() => {\n",
              "      let quickchartButtonEl =\n",
              "        document.querySelector('#df-08a2d96a-e983-489c-84f6-2103857cedb0 button');\n",
              "      quickchartButtonEl.style.display =\n",
              "        google.colab.kernel.accessAllowed ? 'block' : 'none';\n",
              "    })();\n",
              "  </script>\n",
              "</div>\n",
              "\n",
              "    </div>\n",
              "  </div>\n"
            ],
            "application/vnd.google.colaboratory.intrinsic+json": {
              "type": "dataframe",
              "summary": "{\n  \"name\": \"data\",\n  \"rows\": 5,\n  \"fields\": [\n    {\n      \"column\": \"A\",\n      \"properties\": {\n        \"dtype\": \"number\",\n        \"std\": 1.118033988749895,\n        \"min\": -1.5811388300841895,\n        \"max\": 1.2649110640673518,\n        \"num_unique_values\": 5,\n        \"samples\": [\n          -1.5811388300841895,\n          0.6324555320336759,\n          -0.6324555320336759\n        ],\n        \"semantic_type\": \"\",\n        \"description\": \"\"\n      }\n    },\n    {\n      \"column\": \"B\",\n      \"properties\": {\n        \"dtype\": \"number\",\n        \"std\": 1.118033988749895,\n        \"min\": -1.2493900951088486,\n        \"max\": 1.4836507379417574,\n        \"num_unique_values\": 5,\n        \"samples\": [\n          -0.0780868809443031,\n          -0.8589556903873334,\n          -1.2493900951088486\n        ],\n        \"semantic_type\": \"\",\n        \"description\": \"\"\n      }\n    },\n    {\n      \"column\": \"C\",\n      \"properties\": {\n        \"dtype\": \"number\",\n        \"std\": 1.118033988749895,\n        \"min\": -1.3568010505999362,\n        \"max\": 1.6583123951777,\n        \"num_unique_values\": 4,\n        \"samples\": [\n          1.6583123951777,\n          -1.3568010505999362,\n          0.15075567228888176\n        ],\n        \"semantic_type\": \"\",\n        \"description\": \"\"\n      }\n    }\n  ]\n}"
            }
          },
          "metadata": {},
          "execution_count": 31
        }
      ]
    },
    {
      "cell_type": "code",
      "source": [
        "df=pd.DataFrame({'Height':[175,160,10,140,135,140,140,175,165,155]})\n",
        "#calculate zscore for each student's height\n",
        "z=np.abs(stats.zscore(df[\"Height\"]))\n",
        "print(z)\n",
        "threshold=3\n",
        "outlier=df[\"Height\"][z>threshold]\n",
        "print(outlier)"
      ],
      "metadata": {
        "colab": {
          "base_uri": "https://localhost:8080/"
        },
        "id": "qPGSsIkpi4gp",
        "outputId": "21448b02-16f8-477d-cbab-23573b048418"
      },
      "execution_count": 64,
      "outputs": [
        {
          "output_type": "stream",
          "name": "stdout",
          "text": [
            "0    0.781732\n",
            "1    0.451423\n",
            "2    2.851669\n",
            "3    0.011010\n",
            "4    0.099093\n",
            "5    0.011010\n",
            "6    0.011010\n",
            "7    0.781732\n",
            "8    0.561526\n",
            "9    0.341319\n",
            "Name: Height, dtype: float64\n",
            "Series([], Name: Height, dtype: int64)\n"
          ]
        }
      ]
    },
    {
      "cell_type": "code",
      "source": [],
      "metadata": {
        "id": "pwALmnUglz1q"
      },
      "execution_count": null,
      "outputs": []
    }
  ]
}